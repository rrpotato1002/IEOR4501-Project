{
 "cells": [
  {
   "cell_type": "code",
   "execution_count": 1,
   "id": "13ccb856",
   "metadata": {},
   "outputs": [],
   "source": [
    "#xX3rCbSDM4vF0QEfgh09b2ZWW"
   ]
  },
  {
   "cell_type": "markdown",
   "id": "e30ee2d8",
   "metadata": {},
   "source": [
    "## Data Preprocessing"
   ]
  },
  {
   "cell_type": "markdown",
   "id": "38b76277",
   "metadata": {},
   "source": [
    "#### Downloading data from NYC Open Data"
   ]
  },
  {
   "cell_type": "code",
   "execution_count": 2,
   "id": "725b10da",
   "metadata": {},
   "outputs": [],
   "source": [
    "import pandas as pd\n",
    "from sodapy import Socrata\n",
    "import json"
   ]
  },
  {
   "cell_type": "code",
   "execution_count": 5,
   "id": "976f1b2e",
   "metadata": {},
   "outputs": [],
   "source": [
    "query=\"\"\"\n",
    "select * \n",
    "where\n",
    "    created_date between '2015-01-31T00:00:00.000' \n",
    "    and '2023-09-30T23:59:59.999'\n",
    "\"\"\""
   ]
  },
  {
   "cell_type": "code",
   "execution_count": 16,
   "id": "47c64422",
   "metadata": {},
   "outputs": [
    {
     "ename": "ReadTimeout",
     "evalue": "HTTPSConnectionPool(host='data.cityofnewyork.us', port=443): Read timed out. (read timeout=30)",
     "output_type": "error",
     "traceback": [
      "\u001b[0;31m---------------------------------------------------------------------------\u001b[0m",
      "\u001b[0;31mTimeoutError\u001b[0m                              Traceback (most recent call last)",
      "File \u001b[0;32m~/anaconda3/lib/python3.11/site-packages/urllib3/connectionpool.py:466\u001b[0m, in \u001b[0;36mHTTPConnectionPool._make_request\u001b[0;34m(self, conn, method, url, timeout, chunked, **httplib_request_kw)\u001b[0m\n\u001b[1;32m    462\u001b[0m         \u001b[39mexcept\u001b[39;00m \u001b[39mBaseException\u001b[39;00m \u001b[39mas\u001b[39;00m e:\n\u001b[1;32m    463\u001b[0m             \u001b[39m# Remove the TypeError from the exception chain in\u001b[39;00m\n\u001b[1;32m    464\u001b[0m             \u001b[39m# Python 3 (including for exceptions like SystemExit).\u001b[39;00m\n\u001b[1;32m    465\u001b[0m             \u001b[39m# Otherwise it looks like a bug in the code.\u001b[39;00m\n\u001b[0;32m--> 466\u001b[0m             six\u001b[39m.\u001b[39mraise_from(e, \u001b[39mNone\u001b[39;00m)\n\u001b[1;32m    467\u001b[0m \u001b[39mexcept\u001b[39;00m (SocketTimeout, BaseSSLError, SocketError) \u001b[39mas\u001b[39;00m e:\n",
      "File \u001b[0;32m<string>:3\u001b[0m, in \u001b[0;36mraise_from\u001b[0;34m(value, from_value)\u001b[0m\n",
      "File \u001b[0;32m~/anaconda3/lib/python3.11/site-packages/urllib3/connectionpool.py:461\u001b[0m, in \u001b[0;36mHTTPConnectionPool._make_request\u001b[0;34m(self, conn, method, url, timeout, chunked, **httplib_request_kw)\u001b[0m\n\u001b[1;32m    460\u001b[0m \u001b[39mtry\u001b[39;00m:\n\u001b[0;32m--> 461\u001b[0m     httplib_response \u001b[39m=\u001b[39m conn\u001b[39m.\u001b[39mgetresponse()\n\u001b[1;32m    462\u001b[0m \u001b[39mexcept\u001b[39;00m \u001b[39mBaseException\u001b[39;00m \u001b[39mas\u001b[39;00m e:\n\u001b[1;32m    463\u001b[0m     \u001b[39m# Remove the TypeError from the exception chain in\u001b[39;00m\n\u001b[1;32m    464\u001b[0m     \u001b[39m# Python 3 (including for exceptions like SystemExit).\u001b[39;00m\n\u001b[1;32m    465\u001b[0m     \u001b[39m# Otherwise it looks like a bug in the code.\u001b[39;00m\n",
      "File \u001b[0;32m~/anaconda3/lib/python3.11/http/client.py:1378\u001b[0m, in \u001b[0;36mHTTPConnection.getresponse\u001b[0;34m(self)\u001b[0m\n\u001b[1;32m   1377\u001b[0m \u001b[39mtry\u001b[39;00m:\n\u001b[0;32m-> 1378\u001b[0m     response\u001b[39m.\u001b[39mbegin()\n\u001b[1;32m   1379\u001b[0m \u001b[39mexcept\u001b[39;00m \u001b[39mConnectionError\u001b[39;00m:\n",
      "File \u001b[0;32m~/anaconda3/lib/python3.11/http/client.py:318\u001b[0m, in \u001b[0;36mHTTPResponse.begin\u001b[0;34m(self)\u001b[0m\n\u001b[1;32m    317\u001b[0m \u001b[39mwhile\u001b[39;00m \u001b[39mTrue\u001b[39;00m:\n\u001b[0;32m--> 318\u001b[0m     version, status, reason \u001b[39m=\u001b[39m \u001b[39mself\u001b[39m\u001b[39m.\u001b[39m_read_status()\n\u001b[1;32m    319\u001b[0m     \u001b[39mif\u001b[39;00m status \u001b[39m!=\u001b[39m CONTINUE:\n",
      "File \u001b[0;32m~/anaconda3/lib/python3.11/http/client.py:279\u001b[0m, in \u001b[0;36mHTTPResponse._read_status\u001b[0;34m(self)\u001b[0m\n\u001b[1;32m    278\u001b[0m \u001b[39mdef\u001b[39;00m \u001b[39m_read_status\u001b[39m(\u001b[39mself\u001b[39m):\n\u001b[0;32m--> 279\u001b[0m     line \u001b[39m=\u001b[39m \u001b[39mstr\u001b[39m(\u001b[39mself\u001b[39m\u001b[39m.\u001b[39mfp\u001b[39m.\u001b[39mreadline(_MAXLINE \u001b[39m+\u001b[39m \u001b[39m1\u001b[39m), \u001b[39m\"\u001b[39m\u001b[39miso-8859-1\u001b[39m\u001b[39m\"\u001b[39m)\n\u001b[1;32m    280\u001b[0m     \u001b[39mif\u001b[39;00m \u001b[39mlen\u001b[39m(line) \u001b[39m>\u001b[39m _MAXLINE:\n",
      "File \u001b[0;32m~/anaconda3/lib/python3.11/socket.py:706\u001b[0m, in \u001b[0;36mSocketIO.readinto\u001b[0;34m(self, b)\u001b[0m\n\u001b[1;32m    705\u001b[0m \u001b[39mtry\u001b[39;00m:\n\u001b[0;32m--> 706\u001b[0m     \u001b[39mreturn\u001b[39;00m \u001b[39mself\u001b[39m\u001b[39m.\u001b[39m_sock\u001b[39m.\u001b[39mrecv_into(b)\n\u001b[1;32m    707\u001b[0m \u001b[39mexcept\u001b[39;00m timeout:\n",
      "File \u001b[0;32m~/anaconda3/lib/python3.11/ssl.py:1278\u001b[0m, in \u001b[0;36mSSLSocket.recv_into\u001b[0;34m(self, buffer, nbytes, flags)\u001b[0m\n\u001b[1;32m   1275\u001b[0m         \u001b[39mraise\u001b[39;00m \u001b[39mValueError\u001b[39;00m(\n\u001b[1;32m   1276\u001b[0m           \u001b[39m\"\u001b[39m\u001b[39mnon-zero flags not allowed in calls to recv_into() on \u001b[39m\u001b[39m%s\u001b[39;00m\u001b[39m\"\u001b[39m \u001b[39m%\u001b[39m\n\u001b[1;32m   1277\u001b[0m           \u001b[39mself\u001b[39m\u001b[39m.\u001b[39m\u001b[39m__class__\u001b[39m)\n\u001b[0;32m-> 1278\u001b[0m     \u001b[39mreturn\u001b[39;00m \u001b[39mself\u001b[39m\u001b[39m.\u001b[39mread(nbytes, buffer)\n\u001b[1;32m   1279\u001b[0m \u001b[39melse\u001b[39;00m:\n",
      "File \u001b[0;32m~/anaconda3/lib/python3.11/ssl.py:1134\u001b[0m, in \u001b[0;36mSSLSocket.read\u001b[0;34m(self, len, buffer)\u001b[0m\n\u001b[1;32m   1133\u001b[0m \u001b[39mif\u001b[39;00m buffer \u001b[39mis\u001b[39;00m \u001b[39mnot\u001b[39;00m \u001b[39mNone\u001b[39;00m:\n\u001b[0;32m-> 1134\u001b[0m     \u001b[39mreturn\u001b[39;00m \u001b[39mself\u001b[39m\u001b[39m.\u001b[39m_sslobj\u001b[39m.\u001b[39mread(\u001b[39mlen\u001b[39m, buffer)\n\u001b[1;32m   1135\u001b[0m \u001b[39melse\u001b[39;00m:\n",
      "\u001b[0;31mTimeoutError\u001b[0m: The read operation timed out",
      "\nDuring handling of the above exception, another exception occurred:\n",
      "\u001b[0;31mReadTimeoutError\u001b[0m                          Traceback (most recent call last)",
      "File \u001b[0;32m~/anaconda3/lib/python3.11/site-packages/requests/adapters.py:486\u001b[0m, in \u001b[0;36mHTTPAdapter.send\u001b[0;34m(self, request, stream, timeout, verify, cert, proxies)\u001b[0m\n\u001b[1;32m    485\u001b[0m \u001b[39mtry\u001b[39;00m:\n\u001b[0;32m--> 486\u001b[0m     resp \u001b[39m=\u001b[39m conn\u001b[39m.\u001b[39murlopen(\n\u001b[1;32m    487\u001b[0m         method\u001b[39m=\u001b[39mrequest\u001b[39m.\u001b[39mmethod,\n\u001b[1;32m    488\u001b[0m         url\u001b[39m=\u001b[39murl,\n\u001b[1;32m    489\u001b[0m         body\u001b[39m=\u001b[39mrequest\u001b[39m.\u001b[39mbody,\n\u001b[1;32m    490\u001b[0m         headers\u001b[39m=\u001b[39mrequest\u001b[39m.\u001b[39mheaders,\n\u001b[1;32m    491\u001b[0m         redirect\u001b[39m=\u001b[39m\u001b[39mFalse\u001b[39;00m,\n\u001b[1;32m    492\u001b[0m         assert_same_host\u001b[39m=\u001b[39m\u001b[39mFalse\u001b[39;00m,\n\u001b[1;32m    493\u001b[0m         preload_content\u001b[39m=\u001b[39m\u001b[39mFalse\u001b[39;00m,\n\u001b[1;32m    494\u001b[0m         decode_content\u001b[39m=\u001b[39m\u001b[39mFalse\u001b[39;00m,\n\u001b[1;32m    495\u001b[0m         retries\u001b[39m=\u001b[39m\u001b[39mself\u001b[39m\u001b[39m.\u001b[39mmax_retries,\n\u001b[1;32m    496\u001b[0m         timeout\u001b[39m=\u001b[39mtimeout,\n\u001b[1;32m    497\u001b[0m         chunked\u001b[39m=\u001b[39mchunked,\n\u001b[1;32m    498\u001b[0m     )\n\u001b[1;32m    500\u001b[0m \u001b[39mexcept\u001b[39;00m (ProtocolError, \u001b[39mOSError\u001b[39;00m) \u001b[39mas\u001b[39;00m err:\n",
      "File \u001b[0;32m~/anaconda3/lib/python3.11/site-packages/urllib3/connectionpool.py:798\u001b[0m, in \u001b[0;36mHTTPConnectionPool.urlopen\u001b[0;34m(self, method, url, body, headers, retries, redirect, assert_same_host, timeout, pool_timeout, release_conn, chunked, body_pos, **response_kw)\u001b[0m\n\u001b[1;32m    796\u001b[0m     e \u001b[39m=\u001b[39m ProtocolError(\u001b[39m\"\u001b[39m\u001b[39mConnection aborted.\u001b[39m\u001b[39m\"\u001b[39m, e)\n\u001b[0;32m--> 798\u001b[0m retries \u001b[39m=\u001b[39m retries\u001b[39m.\u001b[39mincrement(\n\u001b[1;32m    799\u001b[0m     method, url, error\u001b[39m=\u001b[39me, _pool\u001b[39m=\u001b[39m\u001b[39mself\u001b[39m, _stacktrace\u001b[39m=\u001b[39msys\u001b[39m.\u001b[39mexc_info()[\u001b[39m2\u001b[39m]\n\u001b[1;32m    800\u001b[0m )\n\u001b[1;32m    801\u001b[0m retries\u001b[39m.\u001b[39msleep()\n",
      "File \u001b[0;32m~/anaconda3/lib/python3.11/site-packages/urllib3/util/retry.py:550\u001b[0m, in \u001b[0;36mRetry.increment\u001b[0;34m(self, method, url, response, error, _pool, _stacktrace)\u001b[0m\n\u001b[1;32m    549\u001b[0m \u001b[39mif\u001b[39;00m read \u001b[39mis\u001b[39;00m \u001b[39mFalse\u001b[39;00m \u001b[39mor\u001b[39;00m \u001b[39mnot\u001b[39;00m \u001b[39mself\u001b[39m\u001b[39m.\u001b[39m_is_method_retryable(method):\n\u001b[0;32m--> 550\u001b[0m     \u001b[39mraise\u001b[39;00m six\u001b[39m.\u001b[39mreraise(\u001b[39mtype\u001b[39m(error), error, _stacktrace)\n\u001b[1;32m    551\u001b[0m \u001b[39melif\u001b[39;00m read \u001b[39mis\u001b[39;00m \u001b[39mnot\u001b[39;00m \u001b[39mNone\u001b[39;00m:\n",
      "File \u001b[0;32m~/anaconda3/lib/python3.11/site-packages/urllib3/packages/six.py:770\u001b[0m, in \u001b[0;36mreraise\u001b[0;34m(tp, value, tb)\u001b[0m\n\u001b[1;32m    769\u001b[0m         \u001b[39mraise\u001b[39;00m value\u001b[39m.\u001b[39mwith_traceback(tb)\n\u001b[0;32m--> 770\u001b[0m     \u001b[39mraise\u001b[39;00m value\n\u001b[1;32m    771\u001b[0m \u001b[39mfinally\u001b[39;00m:\n",
      "File \u001b[0;32m~/anaconda3/lib/python3.11/site-packages/urllib3/connectionpool.py:714\u001b[0m, in \u001b[0;36mHTTPConnectionPool.urlopen\u001b[0;34m(self, method, url, body, headers, retries, redirect, assert_same_host, timeout, pool_timeout, release_conn, chunked, body_pos, **response_kw)\u001b[0m\n\u001b[1;32m    713\u001b[0m \u001b[39m# Make the request on the httplib connection object.\u001b[39;00m\n\u001b[0;32m--> 714\u001b[0m httplib_response \u001b[39m=\u001b[39m \u001b[39mself\u001b[39m\u001b[39m.\u001b[39m_make_request(\n\u001b[1;32m    715\u001b[0m     conn,\n\u001b[1;32m    716\u001b[0m     method,\n\u001b[1;32m    717\u001b[0m     url,\n\u001b[1;32m    718\u001b[0m     timeout\u001b[39m=\u001b[39mtimeout_obj,\n\u001b[1;32m    719\u001b[0m     body\u001b[39m=\u001b[39mbody,\n\u001b[1;32m    720\u001b[0m     headers\u001b[39m=\u001b[39mheaders,\n\u001b[1;32m    721\u001b[0m     chunked\u001b[39m=\u001b[39mchunked,\n\u001b[1;32m    722\u001b[0m )\n\u001b[1;32m    724\u001b[0m \u001b[39m# If we're going to release the connection in ``finally:``, then\u001b[39;00m\n\u001b[1;32m    725\u001b[0m \u001b[39m# the response doesn't need to know about the connection. Otherwise\u001b[39;00m\n\u001b[1;32m    726\u001b[0m \u001b[39m# it will also try to release it and we'll have a double-release\u001b[39;00m\n\u001b[1;32m    727\u001b[0m \u001b[39m# mess.\u001b[39;00m\n",
      "File \u001b[0;32m~/anaconda3/lib/python3.11/site-packages/urllib3/connectionpool.py:468\u001b[0m, in \u001b[0;36mHTTPConnectionPool._make_request\u001b[0;34m(self, conn, method, url, timeout, chunked, **httplib_request_kw)\u001b[0m\n\u001b[1;32m    467\u001b[0m \u001b[39mexcept\u001b[39;00m (SocketTimeout, BaseSSLError, SocketError) \u001b[39mas\u001b[39;00m e:\n\u001b[0;32m--> 468\u001b[0m     \u001b[39mself\u001b[39m\u001b[39m.\u001b[39m_raise_timeout(err\u001b[39m=\u001b[39me, url\u001b[39m=\u001b[39murl, timeout_value\u001b[39m=\u001b[39mread_timeout)\n\u001b[1;32m    469\u001b[0m     \u001b[39mraise\u001b[39;00m\n",
      "File \u001b[0;32m~/anaconda3/lib/python3.11/site-packages/urllib3/connectionpool.py:357\u001b[0m, in \u001b[0;36mHTTPConnectionPool._raise_timeout\u001b[0;34m(self, err, url, timeout_value)\u001b[0m\n\u001b[1;32m    356\u001b[0m \u001b[39mif\u001b[39;00m \u001b[39misinstance\u001b[39m(err, SocketTimeout):\n\u001b[0;32m--> 357\u001b[0m     \u001b[39mraise\u001b[39;00m ReadTimeoutError(\n\u001b[1;32m    358\u001b[0m         \u001b[39mself\u001b[39m, url, \u001b[39m\"\u001b[39m\u001b[39mRead timed out. (read timeout=\u001b[39m\u001b[39m%s\u001b[39;00m\u001b[39m)\u001b[39m\u001b[39m\"\u001b[39m \u001b[39m%\u001b[39m timeout_value\n\u001b[1;32m    359\u001b[0m     )\n\u001b[1;32m    361\u001b[0m \u001b[39m# See the above comment about EAGAIN in Python 3. In Python 2 we have\u001b[39;00m\n\u001b[1;32m    362\u001b[0m \u001b[39m# to specifically catch it and throw the timeout error\u001b[39;00m\n",
      "\u001b[0;31mReadTimeoutError\u001b[0m: HTTPSConnectionPool(host='data.cityofnewyork.us', port=443): Read timed out. (read timeout=30)",
      "\nDuring handling of the above exception, another exception occurred:\n",
      "\u001b[0;31mReadTimeout\u001b[0m                               Traceback (most recent call last)",
      "Cell \u001b[0;32mIn[16], line 17\u001b[0m\n\u001b[1;32m     12\u001b[0m current_record \u001b[39m=\u001b[39m \u001b[39m0\u001b[39m\n\u001b[1;32m     15\u001b[0m \u001b[39mwhile\u001b[39;00m current_record \u001b[39m<\u001b[39m total_records:\n\u001b[1;32m     16\u001b[0m     \u001b[39m# Adjust the query to include the limit and offset\u001b[39;00m\n\u001b[0;32m---> 17\u001b[0m     results \u001b[39m=\u001b[39m client\u001b[39m.\u001b[39mget(\u001b[39m\"\u001b[39m\u001b[39merm2-nwe9\u001b[39m\u001b[39m\"\u001b[39m,query\u001b[39m=\u001b[39mquery\u001b[39m+\u001b[39m \u001b[39mf\u001b[39m\u001b[39m\"\u001b[39m\u001b[39m limit \u001b[39m\u001b[39m{\u001b[39;00mlimit\u001b[39m}\u001b[39;00m\u001b[39m offset \u001b[39m\u001b[39m{\u001b[39;00moffset\u001b[39m}\u001b[39;00m\u001b[39m\"\u001b[39m)\n\u001b[1;32m     19\u001b[0m     \u001b[39m# Convert to DataFrame and save to CSV\u001b[39;00m\n\u001b[1;32m     20\u001b[0m     df \u001b[39m=\u001b[39m pd\u001b[39m.\u001b[39mDataFrame\u001b[39m.\u001b[39mfrom_records(results)\n",
      "File \u001b[0;32m~/anaconda3/lib/python3.11/site-packages/sodapy/socrata.py:412\u001b[0m, in \u001b[0;36mSocrata.get\u001b[0;34m(self, dataset_identifier, content_type, **kwargs)\u001b[0m\n\u001b[1;32m    409\u001b[0m params\u001b[39m.\u001b[39mupdate(kwargs)\n\u001b[1;32m    410\u001b[0m params \u001b[39m=\u001b[39m utils\u001b[39m.\u001b[39mclear_empty_values(params)\n\u001b[0;32m--> 412\u001b[0m response \u001b[39m=\u001b[39m \u001b[39mself\u001b[39m\u001b[39m.\u001b[39m_perform_request(\n\u001b[1;32m    413\u001b[0m     \u001b[39m\"\u001b[39m\u001b[39mget\u001b[39m\u001b[39m\"\u001b[39m, resource, headers\u001b[39m=\u001b[39mheaders, params\u001b[39m=\u001b[39mparams\n\u001b[1;32m    414\u001b[0m )\n\u001b[1;32m    415\u001b[0m \u001b[39mreturn\u001b[39;00m response\n",
      "File \u001b[0;32m~/anaconda3/lib/python3.11/site-packages/sodapy/socrata.py:551\u001b[0m, in \u001b[0;36mSocrata._perform_request\u001b[0;34m(self, request_type, resource, **kwargs)\u001b[0m\n\u001b[1;32m    548\u001b[0m \u001b[39m# set a timeout, just to be safe\u001b[39;00m\n\u001b[1;32m    549\u001b[0m kwargs[\u001b[39m\"\u001b[39m\u001b[39mtimeout\u001b[39m\u001b[39m\"\u001b[39m] \u001b[39m=\u001b[39m \u001b[39mself\u001b[39m\u001b[39m.\u001b[39mtimeout\n\u001b[0;32m--> 551\u001b[0m response \u001b[39m=\u001b[39m \u001b[39mgetattr\u001b[39m(\u001b[39mself\u001b[39m\u001b[39m.\u001b[39msession, request_type)(uri, \u001b[39m*\u001b[39m\u001b[39m*\u001b[39mkwargs)\n\u001b[1;32m    553\u001b[0m \u001b[39m# handle errors\u001b[39;00m\n\u001b[1;32m    554\u001b[0m \u001b[39mif\u001b[39;00m response\u001b[39m.\u001b[39mstatus_code \u001b[39mnot\u001b[39;00m \u001b[39min\u001b[39;00m (\u001b[39m200\u001b[39m, \u001b[39m202\u001b[39m):\n",
      "File \u001b[0;32m~/anaconda3/lib/python3.11/site-packages/requests/sessions.py:602\u001b[0m, in \u001b[0;36mSession.get\u001b[0;34m(self, url, **kwargs)\u001b[0m\n\u001b[1;32m    594\u001b[0m \u001b[39m\u001b[39m\u001b[39mr\u001b[39m\u001b[39m\"\"\"Sends a GET request. Returns :class:`Response` object.\u001b[39;00m\n\u001b[1;32m    595\u001b[0m \n\u001b[1;32m    596\u001b[0m \u001b[39m:param url: URL for the new :class:`Request` object.\u001b[39;00m\n\u001b[1;32m    597\u001b[0m \u001b[39m:param \\*\\*kwargs: Optional arguments that ``request`` takes.\u001b[39;00m\n\u001b[1;32m    598\u001b[0m \u001b[39m:rtype: requests.Response\u001b[39;00m\n\u001b[1;32m    599\u001b[0m \u001b[39m\"\"\"\u001b[39;00m\n\u001b[1;32m    601\u001b[0m kwargs\u001b[39m.\u001b[39msetdefault(\u001b[39m\"\u001b[39m\u001b[39mallow_redirects\u001b[39m\u001b[39m\"\u001b[39m, \u001b[39mTrue\u001b[39;00m)\n\u001b[0;32m--> 602\u001b[0m \u001b[39mreturn\u001b[39;00m \u001b[39mself\u001b[39m\u001b[39m.\u001b[39mrequest(\u001b[39m\"\u001b[39m\u001b[39mGET\u001b[39m\u001b[39m\"\u001b[39m, url, \u001b[39m*\u001b[39m\u001b[39m*\u001b[39mkwargs)\n",
      "File \u001b[0;32m~/anaconda3/lib/python3.11/site-packages/requests/sessions.py:589\u001b[0m, in \u001b[0;36mSession.request\u001b[0;34m(self, method, url, params, data, headers, cookies, files, auth, timeout, allow_redirects, proxies, hooks, stream, verify, cert, json)\u001b[0m\n\u001b[1;32m    584\u001b[0m send_kwargs \u001b[39m=\u001b[39m {\n\u001b[1;32m    585\u001b[0m     \u001b[39m\"\u001b[39m\u001b[39mtimeout\u001b[39m\u001b[39m\"\u001b[39m: timeout,\n\u001b[1;32m    586\u001b[0m     \u001b[39m\"\u001b[39m\u001b[39mallow_redirects\u001b[39m\u001b[39m\"\u001b[39m: allow_redirects,\n\u001b[1;32m    587\u001b[0m }\n\u001b[1;32m    588\u001b[0m send_kwargs\u001b[39m.\u001b[39mupdate(settings)\n\u001b[0;32m--> 589\u001b[0m resp \u001b[39m=\u001b[39m \u001b[39mself\u001b[39m\u001b[39m.\u001b[39msend(prep, \u001b[39m*\u001b[39m\u001b[39m*\u001b[39msend_kwargs)\n\u001b[1;32m    591\u001b[0m \u001b[39mreturn\u001b[39;00m resp\n",
      "File \u001b[0;32m~/anaconda3/lib/python3.11/site-packages/requests/sessions.py:703\u001b[0m, in \u001b[0;36mSession.send\u001b[0;34m(self, request, **kwargs)\u001b[0m\n\u001b[1;32m    700\u001b[0m start \u001b[39m=\u001b[39m preferred_clock()\n\u001b[1;32m    702\u001b[0m \u001b[39m# Send the request\u001b[39;00m\n\u001b[0;32m--> 703\u001b[0m r \u001b[39m=\u001b[39m adapter\u001b[39m.\u001b[39msend(request, \u001b[39m*\u001b[39m\u001b[39m*\u001b[39mkwargs)\n\u001b[1;32m    705\u001b[0m \u001b[39m# Total elapsed time of the request (approximately)\u001b[39;00m\n\u001b[1;32m    706\u001b[0m elapsed \u001b[39m=\u001b[39m preferred_clock() \u001b[39m-\u001b[39m start\n",
      "File \u001b[0;32m~/anaconda3/lib/python3.11/site-packages/requests/adapters.py:532\u001b[0m, in \u001b[0;36mHTTPAdapter.send\u001b[0;34m(self, request, stream, timeout, verify, cert, proxies)\u001b[0m\n\u001b[1;32m    530\u001b[0m     \u001b[39mraise\u001b[39;00m SSLError(e, request\u001b[39m=\u001b[39mrequest)\n\u001b[1;32m    531\u001b[0m \u001b[39melif\u001b[39;00m \u001b[39misinstance\u001b[39m(e, ReadTimeoutError):\n\u001b[0;32m--> 532\u001b[0m     \u001b[39mraise\u001b[39;00m ReadTimeout(e, request\u001b[39m=\u001b[39mrequest)\n\u001b[1;32m    533\u001b[0m \u001b[39melif\u001b[39;00m \u001b[39misinstance\u001b[39m(e, _InvalidHeader):\n\u001b[1;32m    534\u001b[0m     \u001b[39mraise\u001b[39;00m InvalidHeader(e, request\u001b[39m=\u001b[39mrequest)\n",
      "\u001b[0;31mReadTimeout\u001b[0m: HTTPSConnectionPool(host='data.cityofnewyork.us', port=443): Read timed out. (read timeout=30)"
     ]
    }
   ],
   "source": [
    "\n",
    "# Example authenticated client (needed for non-public datasets):\n",
    "client = Socrata( \"data.cityofnewyork.us\",\n",
    "                  \"xX3rCbSDM4vF0QEfgh09b2ZWW\",\n",
    "                  username=\"yirong263@gmail.com\",\n",
    "                  password=\"UTDYnmz*zn2u3g6\",\n",
    "                  timeout=30)\n",
    "\n",
    "# Set initial parameters for the SoQL query\n",
    "limit = 50000  # Example limit\n",
    "offset = 0  # Start at the beginning\n",
    "total_records = 1000000  # Example total number of records you wish to download\n",
    "current_record = 0\n",
    "\n",
    "\n",
    "while current_record < total_records:\n",
    "    # Adjust the query to include the limit and offset\n",
    "    results = client.get(\"erm2-nwe9\",query=query+ f\" limit {limit} offset {offset}\")\n",
    "    \n",
    "    # Convert to DataFrame and save to CSV\n",
    "    df = pd.DataFrame.from_records(results)\n",
    "    df.to_csv(f'nyc_311_data_part_{offset // limit + 1}.csv', index=False)\n",
    "    \n",
    "    # Update the offset and current_record count\n",
    "    offset += limit\n",
    "    current_record += len(results)\n",
    "\n",
    "    # Optional: Print progress\n",
    "    print(f'Downloaded {current_record} of {total_records}')\n",
    "\n",
    "#results = client.get(\"erm2-nwe9\",query=query)\n",
    "# Convert to pandas DataFrame\n",
    "#NYC_311df = pd.DataFrame.from_records(results)\n",
    "#print(NYC_311df)"
   ]
  },
  {
   "cell_type": "code",
   "execution_count": null,
   "id": "9dcc23b0",
   "metadata": {},
   "outputs": [
    {
     "name": "stdout",
     "output_type": "stream",
     "text": [
      "['unique_key', 'created_date', 'closed_date', 'agency', 'agency_name', 'complaint_type', 'descriptor', 'location_type', 'incident_zip', 'incident_address', 'street_name', 'cross_street_1', 'cross_street_2', 'intersection_street_1', 'intersection_street_2', 'address_type', 'city', 'landmark', 'status', 'resolution_description', 'resolution_action_updated_date', 'community_board', 'bbl', 'borough', 'x_coordinate_state_plane', 'y_coordinate_state_plane', 'open_data_channel_type', 'park_facility_name', 'park_borough', 'latitude', 'longitude', 'location', 'taxi_pick_up_location', 'facility_type', 'bridge_highway_name', 'bridge_highway_segment', 'bridge_highway_direction', 'road_ramp', 'due_date']\n"
     ]
    }
   ],
   "source": [
    "# Convert the column names to a list and print them\n",
    "column_names = NYC_311df.columns.tolist()\n",
    "print(column_names)"
   ]
  },
  {
   "cell_type": "code",
   "execution_count": null,
   "id": "a3dac599",
   "metadata": {},
   "outputs": [
    {
     "name": "stdout",
     "output_type": "stream",
     "text": [
      "  unique_key             created_date              complaint_type  \\\n",
      "0   58970426  2023-09-30T00:00:00.000              Food Poisoning   \n",
      "1   58958037  2023-09-29T23:59:53.000         Noise - Residential   \n",
      "2   58963337  2023-09-29T23:59:40.000  For Hire Vehicle Complaint   \n",
      "3   58967293  2023-09-29T23:59:10.000         Noise - Residential   \n",
      "4   58957297  2023-09-29T23:59:00.000  For Hire Vehicle Complaint   \n",
      "\n",
      "                location_type incident_zip address_type      city  \\\n",
      "0            Food Cart Vendor        10003      ADDRESS  NEW YORK   \n",
      "1  Residential Building/House        11433      ADDRESS   JAMAICA   \n",
      "2                      Street        10002      ADDRESS  NEW YORK   \n",
      "3  Residential Building/House        11216      ADDRESS  BROOKLYN   \n",
      "4                      Street        10002      ADDRESS  NEW YORK   \n",
      "\n",
      "            landmark       status            latitude           longitude  \\\n",
      "0  UNION SQUARE EAST       Closed    40.7348900594353  -73.98994355524363   \n",
      "1         160 STREET       Closed  40.696276248515204  -73.79372227601002   \n",
      "2    CHRYSTIE STREET  In Progress  40.723202995922456  -73.99124770125584   \n",
      "3      ALBANY AVENUE       Closed    40.6805991000235  -73.93848100682325   \n",
      "4    CHRYSTIE STREET       Closed  40.723202995922456  -73.99124770125584   \n",
      "\n",
      "                                            location  \n",
      "0  {'latitude': '40.7348900594353', 'longitude': ...  \n",
      "1  {'latitude': '40.696276248515204', 'longitude'...  \n",
      "2  {'latitude': '40.723202995922456', 'longitude'...  \n",
      "3  {'latitude': '40.6805991000235', 'longitude': ...  \n",
      "4  {'latitude': '40.723202995922456', 'longitude'...  \n"
     ]
    }
   ],
   "source": [
    "columns_needed = ['unique_key', 'created_date', 'complaint_type','location_type','incident_zip','address_type', 'city', 'landmark', 'status','latitude', 'longitude', 'location']  # Replace with actual column names\n",
    "NYC_311df = NYC_311df[columns_needed]\n",
    "print(NYC_311df.head())"
   ]
  },
  {
   "cell_type": "code",
   "execution_count": null,
   "id": "1de2baca",
   "metadata": {},
   "outputs": [],
   "source": [
    "# Remove unnecessary columns by keeping only the ones you need\n",
    "columns_needed = ['unique_key', 'created_date', 'complaint_type','location_type','incident_zip','address_type', 'city', 'landmark', 'status','latitude', 'longitude', 'location']  # Replace with actual column names\n",
    "NYC_311df = NYC_311df[columns_needed]\n",
    "\n",
    "# Remove invalid data points\n",
    "# This is highly dependent on the context of your data, but as an example:\n",
    "NYC_311df.dropna(inplace=True)  # Drop rows where 'column1' or 'column2' is NaN\n",
    "\n",
    "# Normalize column names\n",
    "NYC_311df.columns = [column_name.lower().replace(' ', '_') for column_name in NYC_311df.columns]\n"
   ]
  },
  {
   "cell_type": "code",
   "execution_count": null,
   "id": "85944079",
   "metadata": {},
   "outputs": [
    {
     "name": "stdout",
     "output_type": "stream",
     "text": [
      "     created_at tree_id block_id  \\\n",
      "0    08/27/2015  180683   348711   \n",
      "1    09/03/2015  200540   315986   \n",
      "2    09/05/2015  204026   218365   \n",
      "3    09/05/2015  204337   217969   \n",
      "4    08/30/2015  189565   223043   \n",
      "..          ...     ...      ...   \n",
      "995  08/31/2015  191374   415497   \n",
      "996  08/26/2015  177355   224301   \n",
      "997  09/01/2015  195035   229940   \n",
      "998  08/26/2015  177062   409315   \n",
      "999  08/30/2015  188662   312637   \n",
      "\n",
      "                                              the_geom tree_dbh stump_diam  \\\n",
      "0    {'type': 'Point', 'coordinates': [-73.84421521...        3          0   \n",
      "1    {'type': 'Point', 'coordinates': [-73.81867945...       21          0   \n",
      "2    {'type': 'Point', 'coordinates': [-73.93660770...        3          0   \n",
      "3    {'type': 'Point', 'coordinates': [-73.93445615...       10          0   \n",
      "4    {'type': 'Point', 'coordinates': [-73.97597938...       21          0   \n",
      "..                                                 ...      ...        ...   \n",
      "995  {'type': 'Point', 'coordinates': [-74.12944305...        1          0   \n",
      "996  {'type': 'Point', 'coordinates': [-74.00015215...       10          0   \n",
      "997  {'type': 'Point', 'coordinates': [-73.95751667...       25          0   \n",
      "998  {'type': 'Point', 'coordinates': [-74.09660153...       18          0   \n",
      "999  {'type': 'Point', 'coordinates': [-73.79587098...       32          0   \n",
      "\n",
      "    curb_loc status health                           spc_latin  ... st_assem  \\\n",
      "0     OnCurb  Alive   Fair                         Acer rubrum  ...       28   \n",
      "1     OnCurb  Alive   Fair                   Quercus palustris  ...       27   \n",
      "2     OnCurb  Alive   Good  Gleditsia triacanthos var. inermis  ...       50   \n",
      "3     OnCurb  Alive   Good  Gleditsia triacanthos var. inermis  ...       53   \n",
      "4     OnCurb  Alive   Good                     Tilia americana  ...       44   \n",
      "..       ...    ...    ...                                 ...  ...      ...   \n",
      "995   OnCurb   Dead    NaN                                 NaN  ...       62   \n",
      "996   OnCurb  Alive   Poor                    Acer platanoides  ...       52   \n",
      "997   OnCurb  Alive   Good                    Acer platanoides  ...       48   \n",
      "998   OnCurb  Alive   Good                    Acer platanoides  ...       63   \n",
      "999   OnCurb  Alive   Fair                    Acer platanoides  ...       26   \n",
      "\n",
      "    st_senate   nta                                  nta_name  boro_ct  \\\n",
      "0          16  QN17                              Forest Hills  4073900   \n",
      "1          11  QN49                                Whitestone  4097300   \n",
      "2          18  BK90                         East Williamsburg  3044900   \n",
      "3          18  BK90                         East Williamsburg  3044900   \n",
      "4          21  BK37                        Park Slope-Gowanus  3016500   \n",
      "..        ...   ...                                       ...      ...   \n",
      "995        24  SI25                     Oakwood-Oakwood Beach  5013800   \n",
      "996        26  BK33  Carroll Gardens-Columbia Street-Red Hook  3006300   \n",
      "997        17  BK43                                   Midwood  3076200   \n",
      "998        24  SI36         Old Town-Dongan Hills-South Beach  5009602   \n",
      "999        11  QN51                               Murray Hill  4114100   \n",
      "\n",
      "        state     latitude     longitude           x_sp           y_sp  \n",
      "0    New York  40.72309177  -73.84421522  1027431.14821  202756.768749  \n",
      "1    New York  40.79411067  -73.81867946  1034455.70109  228644.837379  \n",
      "2    New York  40.71758074   -73.9366077  1001822.83131  200716.891267  \n",
      "3    New York  40.71353749  -73.93445616  1002420.35833  199244.253136  \n",
      "4    New York  40.66677776  -73.97597938  990913.775046  182202.425999  \n",
      "..        ...          ...           ...            ...            ...  \n",
      "995  New York  40.56929363  -74.12944305  948287.567976   146712.05013  \n",
      "996  New York  40.68505281  -74.00015216  984207.800269  188859.639063  \n",
      "997  New York  40.62479203  -73.95751667   996043.10009  166907.823715  \n",
      "998  New York   40.5925856  -74.09660154  957421.094985  155186.117827  \n",
      "999  New York  40.76495852  -73.79587099  1040795.85999  218037.647308  \n",
      "\n",
      "[1000 rows x 42 columns]\n"
     ]
    }
   ],
   "source": [
    "\n",
    "results = client.get(\"5rq2-4hqu\")\n",
    "# Convert to pandas DataFrame\n",
    "tree_df = pd.DataFrame.from_records(results)\n",
    "print(tree_df)"
   ]
  },
  {
   "cell_type": "code",
   "execution_count": null,
   "id": "ef471ec5",
   "metadata": {},
   "outputs": [
    {
     "name": "stdout",
     "output_type": "stream",
     "text": [
      "['created_at', 'tree_id', 'block_id', 'the_geom', 'tree_dbh', 'stump_diam', 'curb_loc', 'status', 'health', 'spc_latin', 'spc_common', 'steward', 'guards', 'sidewalk', 'user_type', 'problems', 'root_stone', 'root_grate', 'root_other', 'trnk_wire', 'trnk_light', 'trnk_other', 'brnch_ligh', 'brnch_shoe', 'brnch_othe', 'address', 'zipcode', 'zip_city', 'cb_num', 'borocode', 'boroname', 'cncldist', 'st_assem', 'st_senate', 'nta', 'nta_name', 'boro_ct', 'state', 'latitude', 'longitude', 'x_sp', 'y_sp']\n"
     ]
    }
   ],
   "source": [
    "# Convert the column names to a list and print them\n",
    "column_names = tree_df.columns.tolist()\n",
    "print(column_names)"
   ]
  },
  {
   "cell_type": "code",
   "execution_count": null,
   "id": "934cec66",
   "metadata": {},
   "outputs": [],
   "source": [
    "# Remove unnecessary columns by keeping only the ones you need\n",
    "columns_needed = ['created_at', 'tree_id', 'block_id', 'tree_dbh', 'stump_diam','latitude', 'longitude', 'x_sp', 'y_sp']  # Replace with actual column names\n",
    "tree_df = tree_df[columns_needed]\n",
    "\n",
    "# Remove invalid data points\n",
    "# This is highly dependent on the context of your data, but as an example:\n",
    "tree_df.dropna(inplace=True)  # Drop rows where 'column1' or 'column2' is NaN\n",
    "\n",
    "# Normalize column names\n",
    "tree_df.columns = [column_name.lower().replace(' ', '_') for column_name in tree_df.columns]\n"
   ]
  }
 ],
 "metadata": {
  "kernelspec": {
   "display_name": "Python 3 (ipykernel)",
   "language": "python",
   "name": "python3"
  },
  "language_info": {
   "codemirror_mode": {
    "name": "ipython",
    "version": 3
   },
   "file_extension": ".py",
   "mimetype": "text/x-python",
   "name": "python",
   "nbconvert_exporter": "python",
   "pygments_lexer": "ipython3",
   "version": "3.11.4"
  }
 },
 "nbformat": 4,
 "nbformat_minor": 5
}
