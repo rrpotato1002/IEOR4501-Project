{
 "cells": [
  {
   "cell_type": "code",
   "execution_count": 1,
   "metadata": {},
   "outputs": [
    {
     "name": "stdout",
     "output_type": "stream",
     "text": [
      "\n",
      "Reading in text mode:\n",
      "RegionID,SizeRank,RegionName,RegionType,StateName,State,City,Metro,CountyName,2015-01-31,2015-02-28,2015-03-31,2015-04-30,2015-05-31,2015-06-30,2015-07-31,2015-08-31,2015-09-30,2015-10-31,2015-11-30,2015-12-31,2016-01-31,2016-02-29,2016-03-31,2016-04-30,2016-05-31,2016-06-30,2016-07-31,2016-08-31,2016-09-30,2016-10-31,2016-11-30,2016-12-31,2017-01-31,2017-02-28,2017-03-31,2017-04-30,2017-05-31,2017-06-30,2017-07-31,2017-08-31,2017-09-30,2017-10-31,2017-11-30,2017-12-31,2018-01-31,2018-02-28,2018-03-31,2018-04-30,2018-05-31,2018-06-30,2018-07-31,2018-08-31,2018-09-30,2018-10-31,2018-11-30,2018-12-31,2019-01-31,2019-02-28,2019-03-31,2019-04-30,2019-05-31,2019-06-30,2019-07-31,2019-08-31,2019-09-30,2019-10-31,2019-11-30,2019-12-31,2020-01-31,2020-02-29,2020-03-31,2020-04-30,2020-05-31,2020-06-30,2020-07-31,2020-08-31,2020-09-30,2020-10-31,2020-11-30,2020-12-31,2021-01-31,2021-02-28,2021-03-31,2021-04-30,2021-05-31,2021-06-30,2021-07-31,2021-08-31,2021-09-30,2021-10-31,2021-11-30,2021-12-31,2022-01-31,2022-02-28,2022-03-31,2022-04-30,2022-05-31,2022-06-30,2022-07-31,2022-08-31,2022-09-30,2022-10-31,2022-11-30,2022-12-31,2023-01-31,2023-02-28,2023-03-31,2023-04-30,2023-05-31,2023-06-30,2023-07-31,2023-08-31,2023-09-30\n",
      "\n"
     ]
    }
   ],
   "source": [
    "# Troubleshooting script for reading a CSV file\n",
    "from pathlib import Path\n",
    "home_path = Path.home()\n",
    "def read_binary(file_path):\n",
    "    try:\n",
    "        with open(file_path, 'rb') as file:\n",
    "            contents = file.read(500)\n",
    "            print(contents)\n",
    "    except Exception as e:\n",
    "        print(f\"An error occurred while reading the file in binary mode: {e}\")\n",
    "\n",
    "def read_text(file_path):\n",
    "    try:\n",
    "        with open(file_path, 'r', encoding='ISO-8859-1') as file:\n",
    "            lines = file.readlines(10)  # Try to read the first 10 lines\n",
    "            for line in lines:\n",
    "                print(line)\n",
    "    except Exception as e:\n",
    "        print(f\"An error occurred while reading the file in text mode: {e}\")\n",
    "\n",
    "file_path = f'{home_path}/Documents/GitHub/IEOR4501-Project/Data/zillow_rent_data/zillow_rent_data.csv'\n",
    "\n",
    "print(\"\\nReading in text mode:\")\n",
    "read_text(file_path)\n"
   ]
  },
  {
   "cell_type": "code",
   "execution_count": 2,
   "metadata": {},
   "outputs": [
    {
     "name": "stdout",
     "output_type": "stream",
     "text": [
      "   RegionID  SizeRank  RegionName RegionType StateName State      City  \\\n",
      "0     91982         1       77494        zip        TX    TX      Katy   \n",
      "1     91940         3       77449        zip        TX    TX      Katy   \n",
      "2     91733         5       77084        zip        TX    TX   Houston   \n",
      "3     93144         6       79936        zip        TX    TX   El Paso   \n",
      "4     62093         7       11385        zip        NY    NY  New York   \n",
      "\n",
      "                                   Metro        CountyName   2015-01-31  ...  \\\n",
      "0   Houston-The Woodlands-Sugar Land, TX  Fort Bend County  1606.206406  ...   \n",
      "1   Houston-The Woodlands-Sugar Land, TX     Harris County  1257.814660  ...   \n",
      "2   Houston-The Woodlands-Sugar Land, TX     Harris County          NaN  ...   \n",
      "3                            El Paso, TX    El Paso County          NaN  ...   \n",
      "4  New York-Newark-Jersey City, NY-NJ-PA     Queens County          NaN  ...   \n",
      "\n",
      "    2022-12-31   2023-01-31   2023-02-28   2023-03-31   2023-04-30  \\\n",
      "0  1994.653463  2027.438438  2042.237444  2049.325559  2016.531345   \n",
      "1  1749.697900  1738.217986  1747.305840  1758.407295  1758.891075   \n",
      "2  1701.217520  1706.900064  1706.067787  1723.722320  1735.484670   \n",
      "3  1419.480272  1458.063897  1471.726681  1466.734658  1456.175660   \n",
      "4  2935.808220  2895.699421  2873.209025  2881.906361  2913.546218   \n",
      "\n",
      "    2023-05-31   2023-06-30   2023-07-31   2023-08-31   2023-09-30  \n",
      "0  2023.438976  2031.558202  2046.144009  2053.486247  2055.771355  \n",
      "1  1762.980879  1771.751591  1779.338402  1795.384582  1799.631140  \n",
      "2  1752.132904  1756.990323  1754.429516  1757.602011  1755.031490  \n",
      "3  1462.478506  1466.267391  1490.237063  1488.180414  1494.366097  \n",
      "4  2963.964134  3005.735342  3034.413822  3064.476503  3079.585783  \n",
      "\n",
      "[5 rows x 114 columns]\n"
     ]
    }
   ],
   "source": [
    "import pandas as pd\n",
    "\n",
    "# The path to the Zillow rent data CSV file\n",
    "zillow_rent_data_path = f'{home_path}/Documents/GitHub/IEOR4501-Project/Data/zillow_rent_data/zillow_rent_data.csv'\n",
    "\n",
    "# Load the Zillow rent data\n",
    "zillow_data = pd.read_csv(zillow_rent_data_path)\n",
    "\n",
    "# Display the first few rows of the dataframe to understand its structure\n",
    "print(zillow_data.head())\n"
   ]
  },
  {
   "cell_type": "code",
   "execution_count": 4,
   "metadata": {},
   "outputs": [],
   "source": [
    "import pandas as pd"
   ]
  },
  {
   "cell_type": "code",
   "execution_count": 10,
   "metadata": {},
   "outputs": [
    {
     "name": "stdout",
     "output_type": "stream",
     "text": [
      "   ZipCode State          City                                  Metro  \\\n",
      "0    77494    TX          Katy   Houston-The Woodlands-Sugar Land, TX   \n",
      "1    77449    TX          Katy   Houston-The Woodlands-Sugar Land, TX   \n",
      "2    77084    TX       Houston   Houston-The Woodlands-Sugar Land, TX   \n",
      "4    11385    NY      New York  New York-Newark-Jersey City, NY-NJ-PA   \n",
      "5    78660    TX  Pflugerville       Austin-Round Rock-Georgetown, TX   \n",
      "\n",
      "         CountyName   2015-01-31   2015-02-28   2015-03-31   2015-04-30  \\\n",
      "0  Fort Bend County  1606.206406  1612.779844  1622.201575  1630.392427   \n",
      "1     Harris County  1257.814660  1255.268025  1262.170452  1274.955754   \n",
      "2     Harris County          NaN          NaN          NaN          NaN   \n",
      "4     Queens County          NaN  2087.527084          NaN  2149.924252   \n",
      "5     Travis County  1399.372678  1411.391149  1396.562265  1390.741122   \n",
      "\n",
      "    2015-05-31  ...   2022-12-31   2023-01-31   2023-02-28   2023-03-31  \\\n",
      "0  1632.411500  ...  1994.653463  2027.438438  2042.237444  2049.325559   \n",
      "1  1285.526052  ...  1749.697900  1738.217986  1747.305840  1758.407295   \n",
      "2          NaN  ...  1701.217520  1706.900064  1706.067787  1723.722320   \n",
      "4  2166.263698  ...  2935.808220  2895.699421  2873.209025  2881.906361   \n",
      "5  1403.065652  ...  2087.219530  2107.491824  2103.020690  2109.932132   \n",
      "\n",
      "    2023-04-30   2023-05-31   2023-06-30   2023-07-31   2023-08-31  \\\n",
      "0  2016.531345  2023.438976  2031.558202  2046.144009  2053.486247   \n",
      "1  1758.891075  1762.980879  1771.751591  1779.338402  1795.384582   \n",
      "2  1735.484670  1752.132904  1756.990323  1754.429516  1757.602011   \n",
      "4  2913.546218  2963.964134  3005.735342  3034.413822  3064.476503   \n",
      "5  2099.065912  2110.786195  2112.792210  2113.710515  2098.939433   \n",
      "\n",
      "    2023-09-30  \n",
      "0  2055.771355  \n",
      "1  1799.631140  \n",
      "2  1755.031490  \n",
      "4  3079.585783  \n",
      "5  2094.435442  \n",
      "\n",
      "[5 rows x 110 columns]\n"
     ]
    }
   ],
   "source": [
    "\n",
    "# Cleaning steps:\n",
    "\n",
    "# Step 1: Remove unnecessary columns\n",
    "columns_to_keep = ['RegionName', 'State', 'City', 'Metro', 'CountyName'] + [col for col in zillow_data.columns if '-' in col]\n",
    "zillow_data_cleaned = zillow_data[columns_to_keep]\n",
    "\n",
    "# Step 2: Remove rows with more than 50% missing values in the monthly rent columns\n",
    "monthly_rent_columns = [col for col in zillow_data.columns if '-' in col]\n",
    "zillow_data_cleaned = zillow_data_cleaned.dropna(thresh=len(monthly_rent_columns)/2, axis=0)\n",
    "\n",
    "# Step 3: Normalize column names\n",
    "zillow_data_cleaned = zillow_data_cleaned.rename(columns={'RegionName': 'ZipCode'})\n",
    "\n",
    "# Display the cleaned dataframe\n",
    "print(zillow_data_cleaned.head())\n",
    "\n",
    "# Optionally, save the cleaned data to a new CSV file\n",
    "zillow_data_cleaned.to_csv(f'{home_path}/Documents/GitHub/IEOR4501-Project/Data/zillow_rent_data/zillow_rent_data_cleaned.csv', index=False)\n"
   ]
  },
  {
   "cell_type": "code",
   "execution_count": 18,
   "metadata": {},
   "outputs": [
    {
     "name": "stdout",
     "output_type": "stream",
     "text": [
      "  ZIPCODE BLDGZIP   PO_NAME  POPULATION          AREA STATE  COUNTY ST_FIPS  \\\n",
      "0   11436       0   Jamaica     18681.0  2.269930e+07    NY  Queens      36   \n",
      "1   11213       0  Brooklyn     62426.0  2.963100e+07    NY   Kings      36   \n",
      "2   11212       0  Brooklyn     83866.0  4.197210e+07    NY   Kings      36   \n",
      "3   11225       0  Brooklyn     56527.0  2.369863e+07    NY   Kings      36   \n",
      "4   11218       0  Brooklyn     72280.0  3.686880e+07    NY   Kings      36   \n",
      "\n",
      "  CTY_FIPS                   URL  SHAPE_AREA  SHAPE_LEN  \\\n",
      "0      081  http://www.usps.com/         0.0        0.0   \n",
      "1      047  http://www.usps.com/         0.0        0.0   \n",
      "2      047  http://www.usps.com/         0.0        0.0   \n",
      "3      047  http://www.usps.com/         0.0        0.0   \n",
      "4      047  http://www.usps.com/         0.0        0.0   \n",
      "\n",
      "                                            geometry  \n",
      "0  POLYGON ((1038098.252 188138.380, 1038141.936 ...  \n",
      "1  POLYGON ((1001613.713 186926.440, 1002314.243 ...  \n",
      "2  POLYGON ((1011174.276 183696.338, 1011373.584 ...  \n",
      "3  POLYGON ((995908.365 183617.613, 996522.848 18...  \n",
      "4  POLYGON ((991997.113 176307.496, 992042.798 17...  \n"
     ]
    }
   ],
   "source": [
    "import geopandas as gpd\n",
    "\n",
    "# Path to your NYC zip code shapefile components\n",
    "zip_code_shp_path = f'{home_path}/Documents/GitHub/IEOR4501-Project/Data/nyc_zipcodes/nyc_zipcodes.shp'\n",
    "zip_code_dbf_path = f'{home_path}/Documents/GitHub/IEOR4501-Project/Data/nyc_zipcodes/nyc_zipcodes.dbf'\n",
    "zip_code_prj_path = f'{home_path}/Documents/GitHub/IEOR4501-Project/Data/nyc_zipcodes/nyc_zipcodes.prj'\n",
    "zip_code_shx_path = f'{home_path}/Documents/GitHub/IEOR4501-Project/Data/nyc_zipcodes/nyc_zipcodes.shx'\n",
    "\n",
    "# Load the shapefile\n",
    "zip_codes_gdf = gpd.read_file(zip_code_shp_path)\n",
    "\n",
    "# Inspect the first few rows\n",
    "print(zip_codes_gdf.head())\n",
    "\n"
   ]
  },
  {
   "cell_type": "code",
   "execution_count": 19,
   "metadata": {},
   "outputs": [
    {
     "name": "stdout",
     "output_type": "stream",
     "text": [
      "  ZIPCODE   PO_NAME  POPULATION          AREA  COUNTY  \\\n",
      "0   11436   Jamaica     18681.0  2.269930e+07  Queens   \n",
      "1   11213  Brooklyn     62426.0  2.963100e+07   Kings   \n",
      "2   11212  Brooklyn     83866.0  4.197210e+07   Kings   \n",
      "3   11225  Brooklyn     56527.0  2.369863e+07   Kings   \n",
      "4   11218  Brooklyn     72280.0  3.686880e+07   Kings   \n",
      "\n",
      "                                            geometry  \n",
      "0  POLYGON ((1038098.252 188138.380, 1038141.936 ...  \n",
      "1  POLYGON ((1001613.713 186926.440, 1002314.243 ...  \n",
      "2  POLYGON ((1011174.276 183696.338, 1011373.584 ...  \n",
      "3  POLYGON ((995908.365 183617.613, 996522.848 18...  \n",
      "4  POLYGON ((991997.113 176307.496, 992042.798 17...  \n",
      "  ZIPCODE      City  POPULATION          AREA  COUNTY  \\\n",
      "0   11436   Jamaica     18681.0  2.269930e+07  Queens   \n",
      "1   11213  Brooklyn     62426.0  2.963100e+07   Kings   \n",
      "2   11212  Brooklyn     83866.0  4.197210e+07   Kings   \n",
      "3   11225  Brooklyn     56527.0  2.369863e+07   Kings   \n",
      "4   11218  Brooklyn     72280.0  3.686880e+07   Kings   \n",
      "\n",
      "                                            geometry  \n",
      "0  POLYGON ((-73.80585 40.68291, -73.80569 40.682...  \n",
      "1  POLYGON ((-73.93740 40.67973, -73.93487 40.679...  \n",
      "2  POLYGON ((-73.90294 40.67084, -73.90223 40.668...  \n",
      "3  POLYGON ((-73.95797 40.67066, -73.95576 40.670...  \n",
      "4  POLYGON ((-73.97208 40.65060, -73.97192 40.650...  \n"
     ]
    }
   ],
   "source": [
    "import geopandas as gpd\n",
    "\n",
    "# Load the shapefile\n",
    "zip_codes_gdf = gpd.read_file(f'{home_path}/Documents/GitHub/IEOR4501-Project/Data/nyc_zipcodes/nyc_zipcodes.shp')\n",
    "\n",
    "# Cleaning steps:\n",
    "\n",
    "# Step 1: Remove unnecessary columns\n",
    "columns_to_drop = ['BLDGZIP', 'STATE', 'ST_FIPS', 'CTY_FIPS', 'URL', 'SHAPE_AREA', 'SHAPE_LEN']\n",
    "zip_codes_gdf_cleaned = zip_codes_gdf.drop(columns=columns_to_drop)\n",
    "print(zip_codes_gdf_cleaned.head())\n",
    "# Step 2: Remove invalid data points (if any)\n",
    "# This step depends on your specific criteria for invalid data points\n",
    "\n",
    "# Step 3: Normalize column names\n",
    "# Example: renaming 'PO_NAME' to 'City' for clarity\n",
    "zip_codes_gdf_cleaned = zip_codes_gdf_cleaned.rename(columns={'PO_NAME': 'City'})\n",
    "\n",
    "# Step 4: Check SRID\n",
    "# If the SRID is not set or not what you want, you can set it like this:\n",
    "\n",
    "zip_codes_gdf_cleaned = zip_codes_gdf_cleaned.to_crs(epsg=4326)\n",
    "\n",
    "# Save the cleaned GeoDataFrame back to a shapefile if needed\n",
    "zip_codes_gdf_cleaned.to_file(f'{home_path}/Documents/GitHub/IEOR4501-Project/Data/nyc_zipcodes/nyc_zipcodes_cleaned.shp')\n",
    "\n",
    "# Display the cleaned GeoDataFrame\n",
    "print(zip_codes_gdf_cleaned.head())\n"
   ]
  },
  {
   "cell_type": "code",
   "execution_count": null,
   "metadata": {},
   "outputs": [],
   "source": []
  }
 ],
 "metadata": {
  "kernelspec": {
   "display_name": "Python 3",
   "language": "python",
   "name": "python3"
  },
  "language_info": {
   "codemirror_mode": {
    "name": "ipython",
    "version": 3
   },
   "file_extension": ".py",
   "mimetype": "text/x-python",
   "name": "python",
   "nbconvert_exporter": "python",
   "pygments_lexer": "ipython3",
   "version": "3.9.6"
  }
 },
 "nbformat": 4,
 "nbformat_minor": 2
}
